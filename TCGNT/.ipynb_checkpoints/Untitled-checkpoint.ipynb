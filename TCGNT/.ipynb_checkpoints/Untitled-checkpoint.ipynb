{
 "cells": [
  {
   "cell_type": "markdown",
   "id": "1352e2f3-c3df-4193-815b-62ad0af615e1",
   "metadata": {},
   "source": [
    "# Prepare Text-Critical Greek New Testament data"
   ]
  },
  {
   "cell_type": "markdown",
   "id": "327dbcf7-a0dc-46af-9d32-df4e68d9f4e3",
   "metadata": {},
   "source": [
    "https://ebible.org/details.php?id=grctcgnt\n",
    "\n",
    "The Text-Critical Greek New Testament is based upon The New Testament in the Original Greek: Byzantine Textform 2018, compiled and arranged by Maurice A. Robinson and William G. Pierpont."
   ]
  },
  {
   "cell_type": "markdown",
   "id": "d8d0d2fa-6605-488e-a5cb-0e45d3c86afa",
   "metadata": {},
   "source": [
    "## Data preparation\n",
    "\n",
    "This script preprocesses the data to generate two output files:\n",
    "- A text file containing the complete text as one continuous string without line breaks.\n",
    "- A text file where each line represents a single verse, including its reference and content."
   ]
  },
  {
   "cell_type": "code",
   "execution_count": 2,
   "id": "854c2330-8e81-4633-b384-2c653a1decee",
   "metadata": {},
   "outputs": [],
   "source": [
    "import os\n",
    "\n",
    "# Directory where the source files are located\n",
    "directory = r'source'\n",
    "# The prefix for the files we are looking for\n",
    "prefix = 'grctcgnt_073_JHN'\n",
    "\n",
    "# Get all filenames in the directory that start with the prefix and sort them alphabetically\n",
    "file_list = sorted(\n",
    "    f for f in os.listdir(directory)\n",
    "    if f.startswith(prefix) and os.path.isfile(os.path.join(directory, f))\n",
    ")\n",
    "\n",
    "# Initialize a variable to hold all processed lines\n",
    "all_lines = \"\"\n",
    "tagged_lines=\"\"\n",
    "# Process each file in alphabetical order\n",
    "chapter = 0\n",
    "for filename in file_list:\n",
    "    chapter += 1\n",
    "    file_path = os.path.join(directory, filename)\n",
    "    with open(file_path, 'r', encoding='utf-8') as file:\n",
    "        verse=0\n",
    "        line_number=0\n",
    "        for line in file:\n",
    "            line_number+=1\n",
    "            if line_number>2:\n",
    "                verse+=1 # Increment the verse counter for each line\n",
    "                # Remove the end-of-line character and add the line to the variable (this will be for the text only file)\n",
    "                line_content=line.rstrip('\\n').replace('﻿','')\n",
    "                all_lines += line_content\n",
    "                # Generate the tagged line with chapter and verse numbers\n",
    "                tagged_lines += f\"430{chapter:02}0{verse:02}\\t{line_content}\\n\"\n",
    "            \n",
    "with open('TCGNT-John.txt', 'w', encoding='utf-8') as f:\n",
    "    f.write(all_lines)\n",
    "with open('TCGNT-John-tagged.txt', 'w', encoding='utf-8') as f:\n",
    "    f.write(tagged_lines)"
   ]
  },
  {
   "cell_type": "markdown",
   "id": "f3cf41ae-f4fd-4ce4-a4c2-e268bd8a81c4",
   "metadata": {},
   "source": [
    "# 5 - Notebook version details<a class=\"anchor\" id=\"bullet5\"></a>\n",
    "##### [Back to ToC](#TOC)\n",
    "\n",
    "<div style=\"float: left;\">\n",
    "  <table>\n",
    "    <tr>\n",
    "      <td><strong>Author</strong></td>\n",
    "      <td>Tony Jurg</td>\n",
    "    </tr>\n",
    "    <tr>\n",
    "      <td><strong>Version</strong></td>\n",
    "      <td>1.0</td>\n",
    "    </tr>\n",
    "    <tr>\n",
    "      <td><strong>Date</strong></td>\n",
    "      <td>25 February 2025</td>\n",
    "    </tr>\n",
    "  </table>\n",
    "</div>"
   ]
  }
 ],
 "metadata": {
  "kernelspec": {
   "display_name": "Python 3 (ipykernel)",
   "language": "python",
   "name": "python3"
  },
  "language_info": {
   "codemirror_mode": {
    "name": "ipython",
    "version": 3
   },
   "file_extension": ".py",
   "mimetype": "text/x-python",
   "name": "python",
   "nbconvert_exporter": "python",
   "pygments_lexer": "ipython3",
   "version": "3.12.7"
  }
 },
 "nbformat": 4,
 "nbformat_minor": 5
}
