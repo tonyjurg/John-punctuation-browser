{
 "cells": [
  {
   "cell_type": "markdown",
   "id": "fd104dc1-2d86-4671-9bc9-468ad3667d1a",
   "metadata": {},
   "source": [
    "# Prepare King James Textus Receptus data"
   ]
  },
  {
   "cell_type": "markdown",
   "id": "d3b879ce-3b5b-4a22-87c2-60f5293090d0",
   "metadata": {},
   "source": [
    "## Data Provenance\n",
    "\n",
    "**Η Καινή Διαθήκη**\n",
    "  \n",
    "Created and provided by the [Center for New Testament Restoration](https://greekcntr.org/home/index.htm).\n",
    "\n",
    "Licence: [CC BY 4.0]\n",
    "\n",
    "Data source: [KJTR](https://github.com/Center-for-New-Testament-Restoration/KJTR/tree/main)  "
   ]
  },
  {
   "cell_type": "markdown",
   "id": "230515e6-dc9d-4249-a993-0db6cc3fc26e",
   "metadata": {},
   "source": [
    "## Data preparation\n",
    "\n",
    "This script preprocesses the data to generate two output files:\n",
    "- A text file containing the complete text as one continuous string without line breaks.\n",
    "- A text file where each line represents a single verse, including its reference and content."
   ]
  },
  {
   "cell_type": "code",
   "execution_count": 7,
   "id": "d57098cd-7ae9-40f8-b2af-4a4bde7f6e2a",
   "metadata": {},
   "outputs": [],
   "source": [
    "# Location where the source file is located\n",
    "file_path = r'source/KJTR-John.txt'\n",
    "\n",
    "# Initialize a variable to hold all processed lines\n",
    "all_lines = \"\"\n",
    "tagged_lines=\"\"\n",
    "with open(file_path, 'r', encoding='utf-8') as f:\n",
    "    lines = f.readlines()\n",
    "    for line in lines:\n",
    "        text=line[8:].rstrip('\\n')\n",
    "        tag=line[:8]\n",
    "        all_lines += text\n",
    "        # Generate the tagged line with chapter and verse numbers\n",
    "        tagged_lines += f\"{tag}\\t{text}\\n\"\n",
    "        \n",
    "with open('KJTR-John.txt', 'w', encoding='utf-8') as f:\n",
    "    f.write(all_lines)\n",
    "with open('KJTR-John-tagged.txt', 'w', encoding='utf-8') as f:\n",
    "    f.write(tagged_lines)"
   ]
  },
  {
   "cell_type": "code",
   "execution_count": null,
   "id": "6a274f26-a0d6-4b79-b762-043031f9fca7",
   "metadata": {},
   "outputs": [],
   "source": []
  },
  {
   "cell_type": "markdown",
   "id": "965b4aab-fcca-4494-aacc-fcaf157409f3",
   "metadata": {},
   "source": [
    "# 5 - Notebook version details<a class=\"anchor\" id=\"bullet5\"></a>\n",
    "##### [Back to ToC](#TOC)\n",
    "\n",
    "<div style=\"float: left;\">\n",
    "  <table>\n",
    "    <tr>\n",
    "      <td><strong>Author</strong></td>\n",
    "      <td>Tony Jurg</td>\n",
    "    </tr>\n",
    "    <tr>\n",
    "      <td><strong>Version</strong></td>\n",
    "      <td>1.0</td>\n",
    "    </tr>\n",
    "    <tr>\n",
    "      <td><strong>Date</strong></td>\n",
    "      <td>25 February 2025</td>\n",
    "    </tr>\n",
    "  </table>\n",
    "</div>"
   ]
  }
 ],
 "metadata": {
  "kernelspec": {
   "display_name": "Python 3 (ipykernel)",
   "language": "python",
   "name": "python3"
  },
  "language_info": {
   "codemirror_mode": {
    "name": "ipython",
    "version": 3
   },
   "file_extension": ".py",
   "mimetype": "text/x-python",
   "name": "python",
   "nbconvert_exporter": "python",
   "pygments_lexer": "ipython3",
   "version": "3.12.7"
  }
 },
 "nbformat": 4,
 "nbformat_minor": 5
}
