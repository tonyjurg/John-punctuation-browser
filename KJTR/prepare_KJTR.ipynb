{
 "cells": [
  {
   "cell_type": "markdown",
   "id": "fd104dc1-2d86-4671-9bc9-468ad3667d1a",
   "metadata": {},
   "source": [
    "# Prepare King James Textus Receptus data"
   ]
  },
  {
   "cell_type": "markdown",
   "id": "d3b879ce-3b5b-4a22-87c2-60f5293090d0",
   "metadata": {},
   "source": [
    "## Data Provenance\n",
    "  \n",
    "Created and provided by the [Center for New Testament Restoration](https://greekcntr.org/home/index.htm).\n",
    "\n",
    "Licence: [CC BY 4.0](https://creativecommons.org/licenses/by/4.0/legalcode.en).\n",
    "\n",
    "Data source: [KJTR](https://github.com/Center-for-New-Testament-Restoration/KJTR/tree/main).\n",
    "\n",
    "Bunning, Alan, ed. *King James Textus Receptus Greek New Testament.* Center for New Testament Restoration. 2014."
   ]
  },
  {
   "cell_type": "markdown",
   "id": "230515e6-dc9d-4249-a993-0db6cc3fc26e",
   "metadata": {},
   "source": [
    "## Data preparation\n",
    "\n",
    "This script preprocesses the data to generate two output files:\n",
    "- A text file containing the complete text as one continuous string without line breaks.\n",
    "- A text file where each line represents a single verse, including its reference and content."
   ]
  },
  {
   "cell_type": "code",
   "execution_count": 1,
   "id": "d57098cd-7ae9-40f8-b2af-4a4bde7f6e2a",
   "metadata": {},
   "outputs": [],
   "source": [
    "import unicodedata\n",
    "import json\n",
    "\n",
    "def normalize(string, chars_to_remove=None):\n",
    "    \"\"\"\n",
    "    Normalize the input string by converting it to lowercase, removing diacritical marks,\n",
    "    and optionally removing specified characters from a list.\n",
    "    \n",
    "    Args:\n",
    "        string (str): The input string to normalize\n",
    "        chars_to_remove (list, optional): List of characters to remove from the string\n",
    "    \n",
    "    Returns:\n",
    "        str: The normalized string\n",
    "    \"\"\"\n",
    "    # Convert to lowercase and normalize apostrophe (to 8125 GREEK KORONIS)\n",
    "    string = string.lower().replace(\"’\", \"᾽\").replace(\"ʼ\",\"᾽\")\n",
    "    # Apply Unicode normalization (NFD) to decompose characters\n",
    "    string = unicodedata.normalize('NFD', string)\n",
    "    # Remove non-spacing marks (diacritics)\n",
    "    string = ''.join(ch for ch in string if unicodedata.category(ch) != 'Mn')\n",
    "    # Remove specified characters if provided\n",
    "    if chars_to_remove is not None:\n",
    "        string = ''.join(ch for ch in string if ch not in chars_to_remove)\n",
    "    return string\n",
    "\n",
    "# Define the file path for the source text file.\n",
    "file_path = r'source/KJTR-John.txt'\n",
    "\n",
    "# Lists to collect processed text fragments and tagged lines, and JSON items.\n",
    "all_lines_parts = []\n",
    "tagged_lines_parts = []\n",
    "json_items = []\n",
    "\n",
    "# Open the source file for reading using UTF-8 encoding.\n",
    "with open(file_path, 'r', encoding='utf-8') as f:\n",
    "    for line in f:\n",
    "        # The first 8 characters are assumed to be the tag.\n",
    "        tag = line[:8]\n",
    "        # The remaining part is the text; normalize it, remove any trailing newline,\n",
    "        # and remove symbols like '¶'.\n",
    "        text = normalize(line[8:],'¶()!').rstrip('\\n')\n",
    "        # Accumulate the processed text.\n",
    "        all_lines_parts.append(text)\n",
    "        # Build the tagged line by concatenating the tag and text with a tab separator.\n",
    "        tagged_lines_parts.append(f\"{tag}\\t{text}\")\n",
    "        # Create a JSON entry for this line.\n",
    "        json_items.append({\n",
    "            \"tag\": tag,\n",
    "            \"text\": text\n",
    "        })\n",
    "\n",
    "# Combine all text fragments into a single continuous string.\n",
    "all_lines = ''.join(all_lines_parts)\n",
    "\n",
    "# Join all tagged lines, ensuring each is on a new line, with a final newline at the end.\n",
    "tagged_lines = \"\\n\".join(tagged_lines_parts) + \"\\n\"\n",
    "\n",
    "# Write the continuous text to the output file.\n",
    "with open('KJTR-John.txt', 'w', encoding='utf-8') as f:\n",
    "    f.write(all_lines)\n",
    "    \n",
    "# Write the tagged text to a separate output file.\n",
    "with open('KJTR-John-tagged.txt', 'w', encoding='utf-8') as f:\n",
    "    f.write(tagged_lines)\n",
    "\n",
    "# Write the JSON data to an output file with indentation for readability.\n",
    "with open('KJTR-John.json', 'w', encoding='utf-8') as f:\n",
    "    json.dump(json_items, f, ensure_ascii=False, indent=4)"
   ]
  },
  {
   "cell_type": "markdown",
   "id": "c5b56c4a-daf8-4c86-ae1c-21f6c4ceb82f",
   "metadata": {},
   "source": [
    "# checking the results"
   ]
  },
  {
   "cell_type": "code",
   "execution_count": 2,
   "id": "763eea1e-fbb6-49a7-9d70-80f8eec515fc",
   "metadata": {},
   "outputs": [
    {
     "data": {
      "text/plain": [
       "' εν αρχη ην ο λογος, και ο λογος ην προς τον θεον, και θεος ην ο λογος. ουτος ην εν αρχη προς τον θεον. παντα δι᾽ αυτου εγενετο· και χωρις αυτου εγενετο ουδε εν ο γεγονεν. εν αυτω ζωη ην· και η ζωη ην το φως των ανθρωπων. και το φως εν τη σκοτια φαινει· και η σκοτια αυτο ου κατελαβεν. εγενετο ανθρωπ'"
      ]
     },
     "execution_count": 2,
     "metadata": {},
     "output_type": "execute_result"
    }
   ],
   "source": [
    "# Dump the first 300 characters of the continuous text\n",
    "all_lines[:300]"
   ]
  },
  {
   "cell_type": "code",
   "execution_count": 3,
   "id": "4b5337ed-9f4a-4c93-9edf-cd4bb80df42b",
   "metadata": {},
   "outputs": [
    {
     "name": "stdout",
     "output_type": "stream",
     "text": [
      "949 GREEK SMALL LETTER EPSILON\n",
      "957 GREEK SMALL LETTER NU\n",
      "32 SPACE\n",
      "960 GREEK SMALL LETTER PI\n",
      "945 GREEK SMALL LETTER ALPHA\n",
      "957 GREEK SMALL LETTER NU\n",
      "964 GREEK SMALL LETTER TAU\n",
      "945 GREEK SMALL LETTER ALPHA\n",
      "32 SPACE\n",
      "948 GREEK SMALL LETTER DELTA\n",
      "953 GREEK SMALL LETTER IOTA\n",
      "8125 GREEK KORONIS\n"
     ]
    }
   ],
   "source": [
    "# Check unicode of some of the words\n",
    "import unicodedata\n",
    "chars=\"εν παντα δι᾽\"\n",
    "for char in chars:\n",
    "    print(ord(char),unicodedata.name(char)) "
   ]
  },
  {
   "cell_type": "code",
   "execution_count": 4,
   "id": "b7290977-39aa-4438-a774-08802fd74103",
   "metadata": {
    "scrolled": true
   },
   "outputs": [
    {
     "name": "stdout",
     "output_type": "stream",
     "text": [
      "43001001\t εν αρχη ην ο λογος, και ο λογος ην προς τον θεον, και θεος ην ο λογος.\n",
      "43001002\t ουτος ην εν αρχη προς τον θεον.\n",
      "43001003\t παντα δι᾽ αυτου εγενετο· και χωρις αυτου εγενετο ουδε εν ο γεγονεν.\n",
      "43001004\t εν αυτω ζωη ην· και η ζωη ην το φως των ανθρωπων.\n",
      "43001005\t και το φως εν τη σκοτια φαινε\n"
     ]
    }
   ],
   "source": [
    "# Print the first 300 characters of the tagged text\n",
    "print (tagged_lines[:300])"
   ]
  },
  {
   "cell_type": "code",
   "execution_count": 5,
   "id": "967f74f8-270e-45f5-b318-773e67544e34",
   "metadata": {},
   "outputs": [
    {
     "name": "stdout",
     "output_type": "stream",
     "text": [
      "[\n",
      "    {\n",
      "        \"tag\": \"43001001\",\n",
      "        \"text\": \" εν αρχη ην ο λογος, και ο λογος ην προς τον θεον, και θεος ην ο λογος.\"\n",
      "    },\n",
      "    {\n",
      "        \"tag\": \"43001002\",\n",
      "        \"text\": \" ουτος ην εν αρχη προς τον θεον.\"\n",
      "    }\n",
      "]\n"
     ]
    }
   ],
   "source": [
    "# Dump the first two JSON items\n",
    "print(json.dumps(json_items[:2], ensure_ascii=False, indent=4))"
   ]
  },
  {
   "cell_type": "markdown",
   "id": "965b4aab-fcca-4494-aacc-fcaf157409f3",
   "metadata": {},
   "source": [
    "# 5 - Notebook version details<a class=\"anchor\" id=\"bullet5\"></a>\n",
    "##### [Back to ToC](#TOC)\n",
    "\n",
    "<div style=\"float: left;\">\n",
    "  <table>\n",
    "    <tr>\n",
    "      <td><strong>Author</strong></td>\n",
    "      <td>Tony Jurg</td>\n",
    "    </tr>\n",
    "    <tr>\n",
    "      <td><strong>Version</strong></td>\n",
    "      <td>1.0</td>\n",
    "    </tr>\n",
    "    <tr>\n",
    "      <td><strong>Date</strong></td>\n",
    "      <td>25 February 2025</td>\n",
    "    </tr>\n",
    "  </table>\n",
    "</div>"
   ]
  }
 ],
 "metadata": {
  "kernelspec": {
   "display_name": "Python 3 (ipykernel)",
   "language": "python",
   "name": "python3"
  },
  "language_info": {
   "codemirror_mode": {
    "name": "ipython",
    "version": 3
   },
   "file_extension": ".py",
   "mimetype": "text/x-python",
   "name": "python",
   "nbconvert_exporter": "python",
   "pygments_lexer": "ipython3",
   "version": "3.12.7"
  }
 },
 "nbformat": 4,
 "nbformat_minor": 5
}
