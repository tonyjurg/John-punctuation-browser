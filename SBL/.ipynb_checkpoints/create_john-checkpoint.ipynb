{
 "cells": [
  {
   "cell_type": "markdown",
   "id": "a845ba21-aa7e-4b5c-9abd-3a87f860a21a",
   "metadata": {},
   "source": [
    "# SBL-GNT"
   ]
  },
  {
   "cell_type": "markdown",
   "id": "0392d0af-fbb5-42db-84a4-c561ca85a9cc",
   "metadata": {},
   "source": [
    "## Data Provenance\n",
    "\n",
    "**Η Καινή Διαθήκη**\n",
    "  \n",
    "SBL-Greek New Testment\n",
    "\n",
    "https://sblgnt.com/\n",
    "\n",
    "GitHub: https://github.com/LogosBible/SBLGNT\n",
    "\n",
    "John: https://github.com/LogosBible/SBLGNT/blob/master/data/sblgnt/text/John.txt\n",
    "\n",
    "Licence: [Creative Commons Attribution 4.0 International Public License](https://sblgnt.com/license)"
   ]
  },
  {
   "cell_type": "markdown",
   "id": "1d0dedaf-8423-48cc-8d7e-70a3168bf778",
   "metadata": {},
   "source": [
    "## Data preparation\n",
    "\n",
    "This script preprocesses the data to generate two output files:\n",
    "- A text file containing the complete text as one continuous string without line breaks.\n",
    "- A text file where each line represents a single verse, including its reference and content."
   ]
  },
  {
   "cell_type": "code",
   "execution_count": 1,
   "id": "1d9af2ee-5580-47e3-8eae-bf7f589f65e8",
   "metadata": {},
   "outputs": [
    {
     "ename": "NameError",
     "evalue": "name 'lastSentenceChapter' is not defined",
     "output_type": "error",
     "traceback": [
      "\u001b[1;31m---------------------------------------------------------------------------\u001b[0m",
      "\u001b[1;31mNameError\u001b[0m                                 Traceback (most recent call last)",
      "Cell \u001b[1;32mIn[1], line 22\u001b[0m\n\u001b[0;32m     19\u001b[0m \u001b[38;5;28;01melse\u001b[39;00m:\n\u001b[0;32m     20\u001b[0m     \u001b[38;5;66;03m# If there's no milestone, use the text of <p> itself\u001b[39;00m\n\u001b[0;32m     21\u001b[0m     verse_text \u001b[38;5;241m=\u001b[39m p\u001b[38;5;241m.\u001b[39mtext \u001b[38;5;129;01mor\u001b[39;00m \u001b[38;5;124m\"\u001b[39m\u001b[38;5;124m\"\u001b[39m\n\u001b[1;32m---> 22\u001b[0m \u001b[38;5;28;01mif\u001b[39;00m \u001b[43mlastSentenceChapter\u001b[49m \u001b[38;5;241m!=\u001b[39m chapter:\n\u001b[0;32m     23\u001b[0m     lastSentenceChapter \u001b[38;5;241m=\u001b[39m chapter\n\u001b[0;32m     24\u001b[0m     sentenceNumber \u001b[38;5;241m=\u001b[39m \u001b[38;5;241m1\u001b[39m\n",
      "\u001b[1;31mNameError\u001b[0m: name 'lastSentenceChapter' is not defined"
     ]
    }
   ],
   "source": [
    "import xml.etree.ElementTree as ET\n",
    "\n",
    "# Specify the file path\n",
    "filePath = r'source/04-john.xml'\n",
    "      \n",
    "# read XML from a file\n",
    "tree = ET.parse(filePath)\n",
    "root = tree.getroot()\n",
    "\n",
    "# Iterate through the XML tree\n",
    "for parent in root.findall('.//'):\n",
    "    for p in parent.findall('p'):\n",
    "        milestone = p.find('milestone')\n",
    "        if milestone is not None:\n",
    "            # Get the text after the milestone element\n",
    "            verse_text = milestone.tail or \"\"\n",
    "            verseId = milestone.get('id')\n",
    "        else:\n",
    "            # If there's no milestone, use the text of <p> itself\n",
    "            verse_text = p.text or \"\"\n",
    "        if lastSentenceChapter != chapter:\n",
    "            lastSentenceChapter = chapter\n",
    "            sentenceNumber = 1\n",
    "        else:\n",
    "            sentenceNumber += 1\n",
    "            \n",
    "        # Print the cleaned text (strip any leading/trailing whitespace)\n",
    "        #f.write(f\"{verseId}\\t{verse_text.strip()}\\n\")"
   ]
  },
  {
   "cell_type": "code",
   "execution_count": null,
   "id": "46ea8fdf-409e-46de-bf7d-0ce085d564e5",
   "metadata": {},
   "outputs": [],
   "source": []
  }
 ],
 "metadata": {
  "kernelspec": {
   "display_name": "Python 3 (ipykernel)",
   "language": "python",
   "name": "python3"
  },
  "language_info": {
   "codemirror_mode": {
    "name": "ipython",
    "version": 3
   },
   "file_extension": ".py",
   "mimetype": "text/x-python",
   "name": "python",
   "nbconvert_exporter": "python",
   "pygments_lexer": "ipython3",
   "version": "3.12.7"
  }
 },
 "nbformat": 4,
 "nbformat_minor": 5
}
