{
 "cells": [
  {
   "cell_type": "markdown",
   "id": "a845ba21-aa7e-4b5c-9abd-3a87f860a21a",
   "metadata": {},
   "source": [
    "# Prepare SBL-GNT data"
   ]
  },
  {
   "cell_type": "markdown",
   "id": "0392d0af-fbb5-42db-84a4-c561ca85a9cc",
   "metadata": {},
   "source": [
    "## Data Provenance\n",
    "\n",
    "[SBL-Greek New Testment](https://sblgnt.com/)\n",
    "\n",
    "[Logos Bible (GitHub)](https://github.com/LogosBible/SBLGNT)\n",
    "\n",
    "Data source: [John.txt](https://github.com/LogosBible/SBLGNT/blob/master/data/sblgnt/text/John.txt)\n",
    "\n",
    "Licence: [Creative Commons Attribution 4.0 International Public License](https://sblgnt.com/license)"
   ]
  },
  {
   "cell_type": "markdown",
   "id": "1d0dedaf-8423-48cc-8d7e-70a3168bf778",
   "metadata": {},
   "source": [
    "## Data preparation\n",
    "\n",
    "This script preprocesses the data to generate two output files:\n",
    "- A text file containing the complete text as one continuous string without line breaks.\n",
    "- A text file where each line represents a single verse, including its reference and content."
   ]
  },
  {
   "cell_type": "code",
   "execution_count": 1,
   "id": "1d9af2ee-5580-47e3-8eae-bf7f589f65e8",
   "metadata": {},
   "outputs": [],
   "source": [
    "import unicodedata\n",
    "import json\n",
    "\n",
    "# Location where the source file is located\n",
    "file_path = r'source/SBL-john.txt'\n",
    "\n",
    "def normalize(string, chars_to_remove=None):\n",
    "    \"\"\"\n",
    "    Normalize the input string by converting it to lowercase, removing diacritical marks,\n",
    "    and optionally removing specified characters from a list.\n",
    "    \n",
    "    Args:\n",
    "        string (str): The input string to normalize\n",
    "        chars_to_remove (list, optional): List of characters to remove from the string\n",
    "    \n",
    "    Returns:\n",
    "        str: The normalized string\n",
    "    \"\"\"\n",
    "    # Convert to lowercase and normalize apostrophe (to 8125 GREEK KORONIS)\n",
    "    string = string.lower().replace(\"’\", \"᾽\").replace(\"ʼ\",\"᾽\")\n",
    "    # Apply Unicode normalization (NFD) to decompose characters\n",
    "    string = unicodedata.normalize('NFD', string)\n",
    "    # Remove non-spacing marks (diacritics)\n",
    "    string = ''.join(ch for ch in string if unicodedata.category(ch) != 'Mn')\n",
    "    # Remove specified characters if provided\n",
    "    if chars_to_remove is not None:\n",
    "        string = ''.join(ch for ch in string if ch not in chars_to_remove)\n",
    "    return string\n",
    "\n",
    "# Lists to collect processed text fragments and tagged lines, and JSON items.\n",
    "all_lines_parts = []\n",
    "tagged_lines_parts = []\n",
    "json_items = []\n",
    "\n",
    "# Open the source file for reading using UTF-8 encoding.\n",
    "with open(file_path, 'r', encoding='utf-8') as f:\n",
    "    for line in f:\n",
    "        # Split the line into tag and text at the first tab.\n",
    "        tag, text = line.split('\\t', 1)\n",
    "        text = normalize(text.rstrip('\\n'),'⸂⸃()⸀')\n",
    "        \n",
    "        # Accumulate the processed text.\n",
    "        all_lines_parts.append(text)\n",
    "        \n",
    "        # Extract chapter and verse from the tag.\n",
    "        _, chapter_verse = tag.split(' ', 1)\n",
    "        chapter, verse = chapter_verse.split(':', 1)\n",
    "        \n",
    "        # Format the tagged line using chapter and verse.\n",
    "        formatted_tag = f\"43{int(chapter):03}{int(verse):03}\"\n",
    "        tagged_lines_parts.append(f\"{formatted_tag}\\t{text}\\n\")\n",
    "\n",
    "        # Create a JSON entry for this line.\n",
    "        json_items.append({\n",
    "            \"tag\": formatted_tag,\n",
    "            \"text\": text\n",
    "        })\n",
    "\n",
    "# Combine all text fragments into a single continuous string.\n",
    "all_lines = ''.join(all_lines_parts)\n",
    "\n",
    "# Join all tagged lines, ensuring each is on a new line, with a final newline at the end.\n",
    "tagged_lines = ''.join(tagged_lines_parts)\n",
    "\n",
    "# Write the continuous text to the output file.\n",
    "with open('SBL-John.txt', 'w', encoding='utf-8') as f:\n",
    "    f.write(all_lines)\n",
    "    \n",
    "# Write the tagged text to a separate output file.    \n",
    "with open('SBL-John-tagged.txt', 'w', encoding='utf-8') as f:\n",
    "    f.write(tagged_lines)\n",
    "\n",
    "# Write the JSON data to an output file with indentation for readability.\n",
    "with open('SBL-John.json', 'w', encoding='utf-8') as f:\n",
    "    json.dump(json_items, f, ensure_ascii=False, indent=4)"
   ]
  },
  {
   "cell_type": "markdown",
   "id": "a40589f9-f08c-46db-aa4a-0c32ef01f2d5",
   "metadata": {},
   "source": [
    "# checking the results"
   ]
  },
  {
   "cell_type": "code",
   "execution_count": 2,
   "id": "470180b5-d1c4-47f3-933f-a13bc4c3fb2e",
   "metadata": {},
   "outputs": [
    {
     "data": {
      "text/plain": [
       "'εν αρχη ην ο λογος, και ο λογος ην προς τον θεον, και θεος ην ο λογος. ουτος ην εν αρχη προς τον θεον. παντα δι᾽ αυτου εγενετο, και χωρις αυτου εγενετο ουδε εν. ο γεγονεν εν αυτω ζωη ην, και η ζωη ην το φως των ανθρωπων· και το φως εν τη σκοτια φαινει, και η σκοτια αυτο ου κατελαβεν. εγενετο ανθρωπο'"
      ]
     },
     "execution_count": 2,
     "metadata": {},
     "output_type": "execute_result"
    }
   ],
   "source": [
    "# Dump the first 300 characters of the continuous text\n",
    "all_lines[:300]"
   ]
  },
  {
   "cell_type": "code",
   "execution_count": 3,
   "id": "f92ca498-ccb6-4ec7-9416-a3e09914b3e5",
   "metadata": {},
   "outputs": [
    {
     "name": "stdout",
     "output_type": "stream",
     "text": [
      "949 GREEK SMALL LETTER EPSILON\n",
      "957 GREEK SMALL LETTER NU\n",
      "32 SPACE\n",
      "945 GREEK SMALL LETTER ALPHA\n",
      "961 GREEK SMALL LETTER RHO\n",
      "967 GREEK SMALL LETTER CHI\n",
      "951 GREEK SMALL LETTER ETA\n",
      "32 SPACE\n",
      "948 GREEK SMALL LETTER DELTA\n",
      "953 GREEK SMALL LETTER IOTA\n",
      "8125 GREEK KORONIS\n"
     ]
    }
   ],
   "source": [
    "# Check unicode of a few words\n",
    "import unicodedata\n",
    "chars=\"εν αρχη δι᾽\"\n",
    "for char in chars:\n",
    "    print(ord(char),unicodedata.name(char)) "
   ]
  },
  {
   "cell_type": "code",
   "execution_count": 4,
   "id": "ad773b18-b8d3-45c7-8a63-50668d5f44bb",
   "metadata": {},
   "outputs": [
    {
     "name": "stdout",
     "output_type": "stream",
     "text": [
      "43001001\tεν αρχη ην ο λογος, και ο λογος ην προς τον θεον, και θεος ην ο λογος. \n",
      "43001002\tουτος ην εν αρχη προς τον θεον. \n",
      "43001003\tπαντα δι᾽ αυτου εγενετο, και χωρις αυτου εγενετο ουδε εν. ο γεγονεν \n",
      "43001004\tεν αυτω ζωη ην, και η ζωη ην το φως των ανθρωπων· \n",
      "43001005\tκαι το φως εν τη σκοτια φαινει\n"
     ]
    }
   ],
   "source": [
    "# Print the first 300 characters of the tagged text\n",
    "print (tagged_lines[:300])"
   ]
  },
  {
   "cell_type": "code",
   "execution_count": 5,
   "id": "993d38f9-f0ac-445e-8969-b5b192571e94",
   "metadata": {},
   "outputs": [
    {
     "name": "stdout",
     "output_type": "stream",
     "text": [
      "[\n",
      "    {\n",
      "        \"tag\": \"43001001\",\n",
      "        \"text\": \"εν αρχη ην ο λογος, και ο λογος ην προς τον θεον, και θεος ην ο λογος. \"\n",
      "    },\n",
      "    {\n",
      "        \"tag\": \"43001002\",\n",
      "        \"text\": \"ουτος ην εν αρχη προς τον θεον. \"\n",
      "    }\n",
      "]\n"
     ]
    }
   ],
   "source": [
    "# Dump the first two JSON items\n",
    "print(json.dumps(json_items[:2], ensure_ascii=False, indent=4))"
   ]
  },
  {
   "cell_type": "markdown",
   "id": "d08024b9-8549-4a2a-8fa3-9465d697d055",
   "metadata": {},
   "source": [
    "# 5 - Notebook version details<a class=\"anchor\" id=\"bullet5\"></a>\n",
    "##### [Back to ToC](#TOC)\n",
    "\n",
    "<div style=\"float: left;\">\n",
    "  <table>\n",
    "    <tr>\n",
    "      <td><strong>Author</strong></td>\n",
    "      <td>Tony Jurg</td>\n",
    "    </tr>\n",
    "    <tr>\n",
    "      <td><strong>Version</strong></td>\n",
    "      <td>1.0</td>\n",
    "    </tr>\n",
    "    <tr>\n",
    "      <td><strong>Date</strong></td>\n",
    "      <td>25 February 2025</td>\n",
    "    </tr>\n",
    "  </table>\n",
    "</div>"
   ]
  }
 ],
 "metadata": {
  "kernelspec": {
   "display_name": "Python 3 (ipykernel)",
   "language": "python",
   "name": "python3"
  },
  "language_info": {
   "codemirror_mode": {
    "name": "ipython",
    "version": 3
   },
   "file_extension": ".py",
   "mimetype": "text/x-python",
   "name": "python",
   "nbconvert_exporter": "python",
   "pygments_lexer": "ipython3",
   "version": "3.12.7"
  }
 },
 "nbformat": 4,
 "nbformat_minor": 5
}
